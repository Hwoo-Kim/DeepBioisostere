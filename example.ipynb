{
 "cells": [
  {
   "cell_type": "code",
   "execution_count": 1,
   "metadata": {},
   "outputs": [],
   "source": [
    "import os\n",
    "import time                                                                                                                                                                                                                                                                                                   \n",
    "from rdkit import Chem                                                                                                                                                                                                                                                                                        \n",
    "from scripts.conditioning import Conditioner                                                                                                                                                                                                                                                                  \n",
    "from scripts.generate import Generator                                                                                                                                                                                                                                                                        \n",
    "from scripts.model import DeepBioisostere                                                                                                                                                                                                                                                                     \n",
    "from scripts.property import calc_logP, calc_Mw, calc_QED, calc_SAscore                                                                                                                                                                                                                                       \n",
    "\n",
    "\n",
    "def print_properties(smi: str):\n",
    "    print(f\"SMILES: {smi}\", end=\", \")\n",
    "    mol = Chem.MolFromSmiles(smi)\n",
    "    print(f\"logP: {calc_logP(mol):.3f}\", end=\", \")\n",
    "    print(f\"QED: {calc_QED(mol):.3f}\", end=\", \")\n",
    "    print(f\"Mw: {calc_Mw(mol):.3f}\", end=\", \")\n",
    "    print(f\"SAscore: {calc_SAscore(mol):.3f}\")"
   ]
  },
  {
   "cell_type": "code",
   "execution_count": 2,
   "metadata": {},
   "outputs": [
    {
     "name": "stdout",
     "output_type": "stream",
     "text": [
      "SMILES: ClC(Cc1c(C(Nc2c(Br)cccc2)=O)cccc1)=O, logP: 4.009, QED: 0.845, Mw: 350.966, SAscore: 1.942\n",
      "SMILES: Cc1ccc2cnc(N(C)CCc3ccccn3)nc2c1, logP: 3.012, QED: 0.735, Mw: 278.153, SAscore: 2.309\n"
     ]
    }
   ],
   "source": [
    "# Set the SMILES to be optimized\n",
    "smi1 = \"ClC(Cc1c(C(Nc2c(Br)cccc2)=O)cccc1)=O\"\n",
    "smi2 = \"Cc1ccc2cnc(N(C)CCc3ccccn3)nc2c1\"\n",
    "print_properties(smi1)\n",
    "print_properties(smi2)"
   ]
  },
  {
   "cell_type": "code",
   "execution_count": 3,
   "metadata": {},
   "outputs": [],
   "source": [
    "# USER SETTINGS\n",
    "device = \"cpu\"\n",
    "num_cores = 4\n",
    "batch_size = 512\n",
    "num_sample_each_mol = 100\n",
    "new_frag_type = \"all\"      # one of [\"test\", \"train\", \"valid\", \"all\"]\n",
    "properties_to_control = [\"mw\", \"logp\"]  # You don't need to worry about the order!"
   ]
  },
  {
   "cell_type": "code",
   "execution_count": 4,
   "metadata": {},
   "outputs": [
    {
     "name": "stdout",
     "output_type": "stream",
     "text": [
      "Loading the fragment library...\n",
      "Tensor files for fragment library not found.\n",
      "Do not worry! This is intended due to the large size of the fragment lirary to upload.\n",
      "Parsing fragment library from the existing csv file. It may take a few minutes...\n",
      "Parsing fragments...\n",
      "Retrieving parsed fragments...\n",
      "Handling the parsing results...\n",
      "Done.\n",
      "Saving the results...\n",
      "Done.\n",
      "Fragment library parsing has been done.\n",
      "Generator initialization finished.\n"
     ]
    }
   ],
   "source": [
    "# Set model and fragment library paths\n",
    "properties = sorted(properties_to_control)\n",
    "proj_dir = os.path.abspath(\"\")\n",
    "model_path = f\"{proj_dir}/model_save/DeepBioisostere_{'_'.join(properties)}.pt\"\n",
    "frag_lib_path = f\"{proj_dir}/fragment_library/\"\n",
    "\n",
    "# Initialize model and generator\n",
    "model = DeepBioisostere.from_trained_model(model_path, properties=properties)\n",
    "conditioner = Conditioner(\n",
    "    phase=\"generation\",\n",
    "    properties=properties,\n",
    ")\n",
    "generator = Generator(\n",
    "    model=model,\n",
    "    processed_frag_dir=frag_lib_path,\n",
    "    conditioner=conditioner,\n",
    "    device=device,\n",
    "    num_cores=num_cores,\n",
    "    batch_size=batch_size,\n",
    "    new_frag_type=new_frag_type,\n",
    "    num_sample_each_mol=num_sample_each_mol,\n",
    "    properties=properties,\n",
    ")"
   ]
  },
  {
   "cell_type": "code",
   "execution_count": 5,
   "metadata": {},
   "outputs": [
    {
     "name": "stdout",
     "output_type": "stream",
     "text": [
      "Option 1. Generate with DeepBioisostere.\n",
      "Elapsed time:  17.719793558120728\n",
      "Option 2. Generate with a specific leaving fragment.\n",
      "Elapsed time:  15.783454656600952\n"
     ]
    }
   ],
   "source": [
    "# Option 1. Generate with DeepBioisostere\n",
    "print(\"Option 1. Generate with DeepBioisostere.\")\n",
    "start_time = time.time()\n",
    "input_list = [\n",
    "    (smi1, {\"mw\": 0, \"logp\": -1}),\n",
    "    (smi2, {\"mw\": 0, \"logp\": -1}),\n",
    "]\n",
    "result_df = generator.generate(input_list)\n",
    "result_df.to_csv(\"generation_result.csv\", index=False)\n",
    "print(\"Elapsed time: \", time.time() - start_time)\n",
    "\n",
    "# Option 2. Generate with a specific leaving fragment\n",
    "print(\"Option 2. Generate with a specific leaving fragment.\")\n",
    "start_time = time.time()\n",
    "input_list = [\n",
    "    (smi1, \"[*]c1ccccc1[*]\", 4, {\"mw\": 0, \"logp\": -1}),                                                                                                                                       \n",
    "    (smi2, \"[*]c1ccccn1\", 12, {\"mw\": 0, \"logp\": -1}),\n",
    "]\n",
    "result_df = generator.generate_with_leaving_frag(input_list)\n",
    "result_df.to_csv(\"generation_result_with_leaving_frag.csv\", index=False)\n",
    "print(\"Elapsed time: \", time.time() - start_time)"
   ]
  }
 ],
 "metadata": {
  "kernelspec": {
   "display_name": "Python 3",
   "language": "python",
   "name": "python3"
  },
  "language_info": {
   "codemirror_mode": {
    "name": "ipython",
    "version": 3
   },
   "file_extension": ".py",
   "mimetype": "text/x-python",
   "name": "python",
   "nbconvert_exporter": "python",
   "pygments_lexer": "ipython3",
   "version": "3.9.13"
  }
 },
 "nbformat": 4,
 "nbformat_minor": 2
}
